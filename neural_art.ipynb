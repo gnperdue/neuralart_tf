{
 "cells": [
  {
   "cell_type": "markdown",
   "metadata": {},
   "source": [
    "[A Neural Algorithm of Artistic Style](https://arxiv.org/abs/1508.06576)\n",
    "\n",
    "Code here follows the [TensorFlow](https://www.tensorflow.org/) implementation by Mark Chang found [here](https://github.com/ckmarkoh/neuralart_tensorflow)."
   ]
  },
  {
   "cell_type": "code",
   "execution_count": 1,
   "metadata": {
    "collapsed": false
   },
   "outputs": [],
   "source": [
    "from __future__ import print_function\n",
    "import tensorflow as tf\n",
    "import numpy as np\n",
    "import scipy.io\n",
    "import scipy.misc\n",
    "import os"
   ]
  },
  {
   "cell_type": "code",
   "execution_count": 12,
   "metadata": {
    "collapsed": false
   },
   "outputs": [
    {
     "name": "stdout",
     "output_type": "stream",
     "text": [
      "Downloading VGG16 model from: https://www.dropbox.com/s/te3qaixo6e70xcr/imagenet-vgg-verydeep-19.mat?dl=1\n"
     ]
    }
   ],
   "source": [
    "vggmodelfile = 'imagenet-vgg-verydeep-19.mat'\n",
    "if not os.path.isfile(os.path.join('.', vggmodelfile)):\n",
    "    import six.moves.urllib.request as request\n",
    "    # use `dl=1` as part of query to force a download\n",
    "    origin = ('https://www.dropbox.com/s/qy9gikdpuq95w8n/%s?dl=1' % vggmodelfile)\n",
    "    print('Downloading VGG16 model from: %s' % origin)\n",
    "    request.urlretrieve(origin, vggmodelfile)"
   ]
  },
  {
   "cell_type": "code",
   "execution_count": 17,
   "metadata": {
    "collapsed": false
   },
   "outputs": [
    {
     "name": "stdout",
     "output_type": "stream",
     "text": [
      "Downloading source image from: https://www.dropbox.com/s/9cosz20ijl4xerm/MALcloudGate2560x1600.jpg?dl=1\n",
      "Downloading style image from: https://www.dropbox.com/s/8frdjcgf7vnjosx/impressionist.jpg?dl=1\n"
     ]
    }
   ],
   "source": [
    "image_dir = './images'\n",
    "source_image = 'MALcloudGate2560x1600.jpg'\n",
    "style_image = 'impressionist.jpg'\n",
    "\n",
    "source = os.path.join(image_dir, source_image)\n",
    "style = os.path.join(image_dir, style_image)\n",
    "\n",
    "if os.path.isdir(image_dir):\n",
    "    print('Image directory is ready...')\n",
    "else:\n",
    "    os.makedirs(image_dir)\n",
    "        \n",
    "if os.path.exists(source):\n",
    "    print('Source image exists...')\n",
    "else:\n",
    "    import six.moves.urllib.request as request\n",
    "    origin = ('https://www.dropbox.com/s/9cosz20ijl4xerm/%s?dl=1' % source_image)\n",
    "    print('Downloading source image from: %s' % origin)\n",
    "    request.urlretrieve(origin, source)\n",
    "\n",
    "if os.path.exists(style):\n",
    "    print('Style image exists...')\n",
    "else:\n",
    "    import six.moves.urllib.request as request\n",
    "    origin = ('https://www.dropbox.com/s/8frdjcgf7vnjosx/%s?dl=1' % style_image)\n",
    "    print('Downloading style image from: %s' % origin)\n",
    "    request.urlretrieve(origin, style)"
   ]
  },
  {
   "cell_type": "code",
   "execution_count": null,
   "metadata": {
    "collapsed": true
   },
   "outputs": [],
   "source": [
    "    "
   ]
  }
 ],
 "metadata": {
  "kernelspec": {
   "display_name": "Python 3",
   "language": "python",
   "name": "python3"
  },
  "language_info": {
   "codemirror_mode": {
    "name": "ipython",
    "version": 3
   },
   "file_extension": ".py",
   "mimetype": "text/x-python",
   "name": "python",
   "nbconvert_exporter": "python",
   "pygments_lexer": "ipython3",
   "version": "3.5.2"
  }
 },
 "nbformat": 4,
 "nbformat_minor": 0
}
